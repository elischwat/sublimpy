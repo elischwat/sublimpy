{
 "cells": [
  {
   "cell_type": "code",
   "execution_count": 1,
   "metadata": {},
   "outputs": [],
   "source": [
    "from sublimpy import utils, variables, tidy"
   ]
  },
  {
   "attachments": {},
   "cell_type": "markdown",
   "metadata": {},
   "source": [
    "# User inputs"
   ]
  },
  {
   "cell_type": "code",
   "execution_count": 2,
   "metadata": {},
   "outputs": [],
   "source": [
    "sos_download_dir='/data2/elilouis/sublimationofsnow/sosnoqc'\n",
    "\n",
    "# dates for entire snow-on season\n",
    "# start_date = '20221130'\n",
    "# end_date = '20230509'\n",
    "# sample dates\n",
    "start_date = '20230101'\n",
    "end_date = '20230110'"
   ]
  },
  {
   "attachments": {},
   "cell_type": "markdown",
   "metadata": {},
   "source": [
    "# Download data"
   ]
  },
  {
   "cell_type": "code",
   "execution_count": 3,
   "metadata": {},
   "outputs": [
    {
     "name": "stdout",
     "output_type": "stream",
     "text": [
      "Caching...skipping download for 20230101\n",
      "Caching...skipping download for 20230102\n",
      "Caching...skipping download for 20230103\n",
      "Caching...skipping download for 20230104\n",
      "Caching...skipping download for 20230105\n",
      "Caching...skipping download for 20230106\n",
      "Caching...skipping download for 20230107\n",
      "Caching...skipping download for 20230108\n",
      "Caching...skipping download for 20230109\n",
      "Caching...skipping download for 20230110\n"
     ]
    }
   ],
   "source": [
    "sos_ds = utils.download_sos_data(\n",
    "    start_date,\n",
    "    end_date,\n",
    "    variable_names=variables.DEFAULT_VARIABLES,\n",
    "    local_download_dir = sos_download_dir,\n",
    "    cache = True,\n",
    "    planar_fit = False\n",
    ")"
   ]
  },
  {
   "attachments": {},
   "cell_type": "markdown",
   "metadata": {},
   "source": [
    "# Calculate additional useful variables"
   ]
  },
  {
   "cell_type": "code",
   "execution_count": 4,
   "metadata": {},
   "outputs": [],
   "source": [
    "sos_ds = variables.add_surface_temps(sos_ds)\n",
    "sos_ds = variables.add_potential_virtual_temperatures(sos_ds)\n",
    "sos_ds = variables.add_surface_potential_virtual_temperatures(sos_ds)\n",
    "sos_ds = variables.add_tke(sos_ds)\n",
    "sos_ds = variables.add_gradients_and_ri(sos_ds)\n",
    "sos_ds = variables.add_shear_velocity_and_obukhov_length(sos_ds)"
   ]
  },
  {
   "attachments": {},
   "cell_type": "markdown",
   "metadata": {},
   "source": [
    "See what variables have been added. Ignore everything above 5m (if it was generated for 5m and below, it was generated for heights above.)"
   ]
  },
  {
   "cell_type": "code",
   "execution_count": 5,
   "metadata": {},
   "outputs": [
    {
     "data": {
      "text/plain": [
       "['L_10m_c',\n",
       " 'L_15m_c',\n",
       " 'L_20m_c',\n",
       " 'L_2m_c',\n",
       " 'L_3m_c',\n",
       " 'L_5m_c',\n",
       " 'RiB_10m_c',\n",
       " 'RiB_15m_c',\n",
       " 'RiB_20m_c',\n",
       " 'RiB_2m_c',\n",
       " 'RiB_3m_c',\n",
       " 'RiB_5m_c',\n",
       " 'Ri_10m_c',\n",
       " 'Ri_15m_c',\n",
       " 'Ri_20m_c',\n",
       " 'Ri_2m_c',\n",
       " 'Ri_3m_c',\n",
       " 'Ri_5m_c',\n",
       " 'Tpot_10m_c',\n",
       " 'Tpot_11m_c',\n",
       " 'Tpot_12m_c',\n",
       " 'Tpot_13m_c',\n",
       " 'Tpot_14m_c',\n",
       " 'Tpot_15m_c',\n",
       " 'Tpot_16m_c',\n",
       " 'Tpot_17m_c',\n",
       " 'Tpot_18m_c',\n",
       " 'Tpot_19m_c',\n",
       " 'Tpot_20m_c',\n",
       " 'Tpot_2m_c',\n",
       " 'Tpot_3m_c',\n",
       " 'Tpot_4m_c',\n",
       " 'Tpot_5m_c',\n",
       " 'Tpot_6m_c',\n",
       " 'Tpot_7m_c',\n",
       " 'Tpot_8m_c',\n",
       " 'Tpot_9m_c',\n",
       " 'Tpotvirtual_10m_c',\n",
       " 'Tpotvirtual_11m_c',\n",
       " 'Tpotvirtual_12m_c',\n",
       " 'Tpotvirtual_13m_c',\n",
       " 'Tpotvirtual_14m_c',\n",
       " 'Tpotvirtual_15m_c',\n",
       " 'Tpotvirtual_16m_c',\n",
       " 'Tpotvirtual_17m_c',\n",
       " 'Tpotvirtual_18m_c',\n",
       " 'Tpotvirtual_19m_c',\n",
       " 'Tpotvirtual_20m_c',\n",
       " 'Tpotvirtual_2m_c',\n",
       " 'Tpotvirtual_3m_c',\n",
       " 'Tpotvirtual_4m_c',\n",
       " 'Tpotvirtual_5m_c',\n",
       " 'Tpotvirtual_6m_c',\n",
       " 'Tpotvirtual_7m_c',\n",
       " 'Tpotvirtual_8m_c',\n",
       " 'Tpotvirtual_9m_c',\n",
       " 'Tsurf_c',\n",
       " 'Tsurf_d',\n",
       " 'Tsurf_rad_d',\n",
       " 'Tsurf_ue',\n",
       " 'Tsurf_uw',\n",
       " 'Tsurfairdensity_rad_c',\n",
       " 'Tsurfmixingratio_rad_c',\n",
       " 'Tsurfpot_rad_c',\n",
       " 'Tsurfpotvirtual_rad_c',\n",
       " 'Tsurfvirtual_rad_c',\n",
       " 'Tvirtual_10m_c',\n",
       " 'Tvirtual_11m_c',\n",
       " 'Tvirtual_12m_c',\n",
       " 'Tvirtual_13m_c',\n",
       " 'Tvirtual_14m_c',\n",
       " 'Tvirtual_15m_c',\n",
       " 'Tvirtual_16m_c',\n",
       " 'Tvirtual_17m_c',\n",
       " 'Tvirtual_18m_c',\n",
       " 'Tvirtual_19m_c',\n",
       " 'Tvirtual_20m_c',\n",
       " 'Tvirtual_2m_c',\n",
       " 'Tvirtual_3m_c',\n",
       " 'Tvirtual_4m_c',\n",
       " 'Tvirtual_5m_c',\n",
       " 'Tvirtual_6m_c',\n",
       " 'Tvirtual_7m_c',\n",
       " 'Tvirtual_8m_c',\n",
       " 'Tvirtual_9m_c',\n",
       " 'airdensity_10m_c',\n",
       " 'airdensity_11m_c',\n",
       " 'airdensity_12m_c',\n",
       " 'airdensity_13m_c',\n",
       " 'airdensity_14m_c',\n",
       " 'airdensity_15m_c',\n",
       " 'airdensity_16m_c',\n",
       " 'airdensity_17m_c',\n",
       " 'airdensity_18m_c',\n",
       " 'airdensity_19m_c',\n",
       " 'airdensity_20m_c',\n",
       " 'airdensity_2m_c',\n",
       " 'airdensity_3m_c',\n",
       " 'airdensity_4m_c',\n",
       " 'airdensity_5m_c',\n",
       " 'airdensity_6m_c',\n",
       " 'airdensity_7m_c',\n",
       " 'airdensity_8m_c',\n",
       " 'airdensity_9m_c',\n",
       " 'mixingratio_10m_c',\n",
       " 'mixingratio_11m_c',\n",
       " 'mixingratio_12m_c',\n",
       " 'mixingratio_13m_c',\n",
       " 'mixingratio_14m_c',\n",
       " 'mixingratio_15m_c',\n",
       " 'mixingratio_16m_c',\n",
       " 'mixingratio_17m_c',\n",
       " 'mixingratio_18m_c',\n",
       " 'mixingratio_19m_c',\n",
       " 'mixingratio_20m_c',\n",
       " 'mixingratio_2m_c',\n",
       " 'mixingratio_3m_c',\n",
       " 'mixingratio_4m_c',\n",
       " 'mixingratio_5m_c',\n",
       " 'mixingratio_6m_c',\n",
       " 'mixingratio_7m_c',\n",
       " 'mixingratio_8m_c',\n",
       " 'mixingratio_9m_c',\n",
       " 'temp_gradient_10m_c',\n",
       " 'temp_gradient_15m_c',\n",
       " 'temp_gradient_20m_c',\n",
       " 'temp_gradient_2m_c',\n",
       " 'temp_gradient_3m_c',\n",
       " 'temp_gradient_5m_c',\n",
       " 'tke_10m_c',\n",
       " 'tke_10m_d',\n",
       " 'tke_10m_ue',\n",
       " 'tke_10m_uw',\n",
       " 'tke_15m_c',\n",
       " 'tke_1m_d',\n",
       " 'tke_1m_ue',\n",
       " 'tke_1m_uw',\n",
       " 'tke_20m_c',\n",
       " 'tke_2m_c',\n",
       " 'tke_3m_c',\n",
       " 'tke_3m_d',\n",
       " 'tke_3m_ue',\n",
       " 'tke_3m_uw',\n",
       " 'tke_5m_c',\n",
       " 'u*_10m_c',\n",
       " 'u*_15m_c',\n",
       " 'u*_20m_c',\n",
       " 'u*_2m_c',\n",
       " 'u*_3m_c',\n",
       " 'u*_5m_c',\n",
       " 'wind_gradient_10m_c',\n",
       " 'wind_gradient_15m_c',\n",
       " 'wind_gradient_20m_c',\n",
       " 'wind_gradient_2m_c',\n",
       " 'wind_gradient_3m_c',\n",
       " 'wind_gradient_5m_c']"
      ]
     },
     "execution_count": 5,
     "metadata": {},
     "output_type": "execute_result"
    }
   ],
   "source": [
    "new_variables = sorted(list(set(\n",
    "    list(sos_ds.data_vars)\n",
    ").difference(\n",
    "    set(variables.DEFAULT_VARIABLES)\n",
    ")))\n",
    "new_variables"
   ]
  },
  {
   "attachments": {},
   "cell_type": "markdown",
   "metadata": {},
   "source": [
    "# Get Tidy Dataset"
   ]
  },
  {
   "cell_type": "code",
   "execution_count": 6,
   "metadata": {},
   "outputs": [],
   "source": [
    "tidy_df = tidy.get_tidy_dataset(sos_ds, list(sos_ds.data_vars))"
   ]
  },
  {
   "attachments": {},
   "cell_type": "markdown",
   "metadata": {},
   "source": [
    "Which variables did not get a \"measurement\" name assigned?"
   ]
  },
  {
   "cell_type": "code",
   "execution_count": 7,
   "metadata": {},
   "outputs": [
    {
     "data": {
      "text/plain": [
       "array(['Tcase_out_9m_d', 'Rpile_out_9m_d'], dtype=object)"
      ]
     },
     "execution_count": 7,
     "metadata": {},
     "output_type": "execute_result"
    }
   ],
   "source": [
    "variables_with_no_measurement = tidy_df[tidy_df.measurement.apply(lambda x: x is None)].variable.unique()\n",
    "variables_with_no_measurement"
   ]
  },
  {
   "attachments": {},
   "cell_type": "markdown",
   "metadata": {},
   "source": [
    "# Modify timezone"
   ]
  },
  {
   "cell_type": "code",
   "execution_count": 8,
   "metadata": {},
   "outputs": [],
   "source": [
    "import pytz\n",
    "tidy_df = utils.modify_df_timezone(tidy_df, pytz.UTC, pytz.timezone('US/Mountain'))"
   ]
  }
 ],
 "metadata": {
  "kernelspec": {
   "display_name": "arm",
   "language": "python",
   "name": "python3"
  },
  "language_info": {
   "codemirror_mode": {
    "name": "ipython",
    "version": 3
   },
   "file_extension": ".py",
   "mimetype": "text/x-python",
   "name": "python",
   "nbconvert_exporter": "python",
   "pygments_lexer": "ipython3",
   "version": "3.11.0"
  },
  "orig_nbformat": 4
 },
 "nbformat": 4,
 "nbformat_minor": 2
}
