{
 "cells": [
  {
   "cell_type": "code",
   "execution_count": 1,
   "metadata": {},
   "outputs": [
    {
     "data": {
      "text/plain": [
       "DataTransformerRegistry.enable('json')"
      ]
     },
     "execution_count": 1,
     "metadata": {},
     "output_type": "execute_result"
    }
   ],
   "source": [
    "from sublimpy import utils, variables, tidy\n",
    "\n",
    "import pandas as pd\n",
    "import pytz\n",
    "import altair as alt\n",
    "alt.data_transformers.enable('json') # allows us to use altair with large datasets, side effect of this is that lots\n",
    "                                     # of files are saved \"altair-data-xxx.json\". delete these at your leisure."
   ]
  },
  {
   "attachments": {},
   "cell_type": "markdown",
   "metadata": {},
   "source": [
    "# User inputs"
   ]
  },
  {
   "cell_type": "code",
   "execution_count": 2,
   "metadata": {},
   "outputs": [],
   "source": [
    "# local files where you have downloaded/will download sos data\n",
    "sos_download_dir='/data2/elilouis/sublimationofsnow/sosnoqc'\n",
    "\n",
    "# dates for entire snow-on season\n",
    "# start_date = '20221130'\n",
    "# end_date = '20230509'\n",
    "\n",
    "# sample dates\n",
    "start_date = '20230210'\n",
    "end_date = '20230213'"
   ]
  },
  {
   "attachments": {},
   "cell_type": "markdown",
   "metadata": {},
   "source": [
    "# Topics covered in this notebook\n",
    "1. Introduce `sublimpy` tools for downloading (and cleaning) data, \n",
    "2. calculating additional variables,\n",
    "3. and generating a \"tidy\" dataset.\n",
    "4. Plotting tidy data with Altair"
   ]
  },
  {
   "cell_type": "code",
   "execution_count": null,
   "metadata": {},
   "outputs": [],
   "source": []
  },
  {
   "cell_type": "code",
   "execution_count": null,
   "metadata": {},
   "outputs": [],
   "source": []
  },
  {
   "attachments": {},
   "cell_type": "markdown",
   "metadata": {},
   "source": [
    "# Download data\n",
    "\n",
    "using `utils.download_sos_data`, which:\n",
    "1. downloads multiple daily files, handling download errors\n",
    "2. merges them into a single dataframe,\n",
    "3. Fills in missing data so the 5-minute interval time index is continuous"
   ]
  },
  {
   "cell_type": "code",
   "execution_count": 3,
   "metadata": {},
   "outputs": [
    {
     "name": "stdout",
     "output_type": "stream",
     "text": [
      "Caching...skipping download for 20230210\n",
      "Caching...skipping download for 20230211\n",
      "Caching...skipping download for 20230212\n",
      "Caching...skipping download for 20230213\n"
     ]
    }
   ],
   "source": [
    "\n",
    "sos_ds = utils.download_sos_data(\n",
    "    start_date,\n",
    "    end_date,\n",
    "    variable_names=variables.DEFAULT_VARIABLES,\n",
    "    local_download_dir = sos_download_dir,\n",
    "    cache = True,\n",
    "    planar_fit = False # allows downloading of the planar-fitted data \n",
    "                       # provided by NCAR (does not exist after ~ March 12)\n",
    ")"
   ]
  },
  {
   "attachments": {},
   "cell_type": "markdown",
   "metadata": {},
   "source": [
    "We also have a function for downloading the high rate data, which is only available for a few selected days right now"
   ]
  },
  {
   "cell_type": "code",
   "execution_count": 4,
   "metadata": {},
   "outputs": [
    {
     "data": {
      "text/plain": [
       "'hr_noqc_geo/isfs_geo_hr_20221031_00.nc'"
      ]
     },
     "execution_count": 4,
     "metadata": {},
     "output_type": "execute_result"
    }
   ],
   "source": [
    "utils.download_sos_highrate_data_hour(\n",
    "    date = '20221031', \n",
    "    hour = '00', # must specify an hour because these datasets are very large\n",
    ")"
   ]
  },
  {
   "cell_type": "code",
   "execution_count": null,
   "metadata": {},
   "outputs": [],
   "source": []
  },
  {
   "cell_type": "code",
   "execution_count": null,
   "metadata": {},
   "outputs": [],
   "source": []
  },
  {
   "attachments": {},
   "cell_type": "markdown",
   "metadata": {},
   "source": [
    "# Calculate additional useful variables"
   ]
  },
  {
   "attachments": {},
   "cell_type": "markdown",
   "metadata": {},
   "source": [
    "These functions get us a bunch of bonus variables, including other \"versions\" of temperature,\n",
    "calculated using an estimate of height-adjusted pressure \n",
    "\n",
    "`['Tpot_10m_c', 'Tvirtual_10m_c', 'Tpotvirtual_10m_c']`\n",
    "\n",
    "surface temperatures\n",
    "\n",
    "`['Tsurf_c', 'Tsurf_rad_d']`\n",
    "\n",
    "gradients,\n",
    "\n",
    "`['temp_gradient_10m_c', 'wind_gradient_10m_c']`\n",
    "\n",
    "Richardson numbers and Obukhov length\n",
    "\n",
    "`['Ri_10m_c', 'RiB_10m_c', 'L_10m_c']`\n",
    "\n",
    "Shear velocity, TKE\n",
    "\n",
    "`['u*_10m_c', 'tke_10m_c']`\n",
    "\n",
    "air density and mixing ratio\n",
    "\n",
    "`['airdensity_10m_c', 'mixingratio_10m_c']`\n",
    "\n",
    "and these exist for all heights at all towers where calculation is possible."
   ]
  },
  {
   "cell_type": "code",
   "execution_count": 5,
   "metadata": {},
   "outputs": [],
   "source": [
    "sos_ds = variables.add_surface_temps(sos_ds)\n",
    "sos_ds = variables.add_potential_virtual_temperatures(sos_ds)\n",
    "sos_ds = variables.add_surface_potential_virtual_temperatures(sos_ds)\n",
    "sos_ds = variables.add_tke(sos_ds)\n",
    "sos_ds = variables.add_gradients_and_ri(sos_ds)\n",
    "sos_ds = variables.add_obukhov_length(sos_ds)"
   ]
  },
  {
   "cell_type": "code",
   "execution_count": null,
   "metadata": {},
   "outputs": [],
   "source": []
  },
  {
   "cell_type": "code",
   "execution_count": null,
   "metadata": {},
   "outputs": [],
   "source": []
  },
  {
   "attachments": {},
   "cell_type": "markdown",
   "metadata": {},
   "source": [
    "# Get Tidy Dataset\n",
    "\n",
    "using `tidy.get_tidy_dataset` which converts the xarray/NetCDF data."
   ]
  },
  {
   "cell_type": "code",
   "execution_count": 6,
   "metadata": {},
   "outputs": [],
   "source": [
    "tidy_df = tidy.get_tidy_dataset(sos_ds, list(sos_ds.data_vars))"
   ]
  },
  {
   "attachments": {},
   "cell_type": "markdown",
   "metadata": {},
   "source": [
    "# Localize timestamps \n",
    "\n",
    "using the utility `utils.modify_df_timezone`. If you want to work with localized xarray data,\n",
    "`utils.modify_xarray_timezone` does the trick."
   ]
  },
  {
   "cell_type": "code",
   "execution_count": 7,
   "metadata": {},
   "outputs": [],
   "source": [
    "tidy_df = utils.modify_df_timezone(\n",
    "    tidy_df, \n",
    "    source_tz = pytz.UTC, \n",
    "    target_tz = pytz.timezone('US/Mountain')\n",
    ")\n",
    "tidy_df = tidy_df[[ 'time', 'tower', 'height', 'measurement', 'variable', 'value']]"
   ]
  },
  {
   "cell_type": "code",
   "execution_count": null,
   "metadata": {},
   "outputs": [],
   "source": []
  },
  {
   "cell_type": "code",
   "execution_count": null,
   "metadata": {},
   "outputs": [],
   "source": []
  },
  {
   "cell_type": "code",
   "execution_count": null,
   "metadata": {},
   "outputs": [],
   "source": []
  },
  {
   "attachments": {},
   "cell_type": "markdown",
   "metadata": {},
   "source": [
    "# What is tidy data?\n",
    "\n",
    "The simplest tidy_data would look like this:"
   ]
  },
  {
   "cell_type": "code",
   "execution_count": 8,
   "metadata": {},
   "outputs": [
    {
     "data": {
      "text/html": [
       "<div>\n",
       "<style scoped>\n",
       "    .dataframe tbody tr th:only-of-type {\n",
       "        vertical-align: middle;\n",
       "    }\n",
       "\n",
       "    .dataframe tbody tr th {\n",
       "        vertical-align: top;\n",
       "    }\n",
       "\n",
       "    .dataframe thead th {\n",
       "        text-align: right;\n",
       "    }\n",
       "</style>\n",
       "<table border=\"1\" class=\"dataframe\">\n",
       "  <thead>\n",
       "    <tr style=\"text-align: right;\">\n",
       "      <th></th>\n",
       "      <th>time</th>\n",
       "      <th>variable</th>\n",
       "      <th>value</th>\n",
       "    </tr>\n",
       "  </thead>\n",
       "  <tbody>\n",
       "    <tr>\n",
       "      <th>0</th>\n",
       "      <td>2023-02-09 17:02:30</td>\n",
       "      <td>RH_4m_c</td>\n",
       "      <td>44.631634</td>\n",
       "    </tr>\n",
       "    <tr>\n",
       "      <th>1</th>\n",
       "      <td>2023-02-09 17:07:30</td>\n",
       "      <td>RH_4m_c</td>\n",
       "      <td>44.369286</td>\n",
       "    </tr>\n",
       "    <tr>\n",
       "      <th>2</th>\n",
       "      <td>2023-02-09 17:12:30</td>\n",
       "      <td>RH_4m_c</td>\n",
       "      <td>45.231407</td>\n",
       "    </tr>\n",
       "    <tr>\n",
       "      <th>3</th>\n",
       "      <td>2023-02-09 17:17:30</td>\n",
       "      <td>RH_4m_c</td>\n",
       "      <td>46.573399</td>\n",
       "    </tr>\n",
       "    <tr>\n",
       "      <th>4</th>\n",
       "      <td>2023-02-09 17:22:30</td>\n",
       "      <td>RH_4m_c</td>\n",
       "      <td>47.458984</td>\n",
       "    </tr>\n",
       "    <tr>\n",
       "      <th>...</th>\n",
       "      <td>...</td>\n",
       "      <td>...</td>\n",
       "      <td>...</td>\n",
       "    </tr>\n",
       "    <tr>\n",
       "      <th>570235</th>\n",
       "      <td>2023-02-13 16:37:30</td>\n",
       "      <td>L_20m_c</td>\n",
       "      <td>21.407660</td>\n",
       "    </tr>\n",
       "    <tr>\n",
       "      <th>570236</th>\n",
       "      <td>2023-02-13 16:42:30</td>\n",
       "      <td>L_20m_c</td>\n",
       "      <td>64.408348</td>\n",
       "    </tr>\n",
       "    <tr>\n",
       "      <th>570237</th>\n",
       "      <td>2023-02-13 16:47:30</td>\n",
       "      <td>L_20m_c</td>\n",
       "      <td>52.224754</td>\n",
       "    </tr>\n",
       "    <tr>\n",
       "      <th>570238</th>\n",
       "      <td>2023-02-13 16:52:30</td>\n",
       "      <td>L_20m_c</td>\n",
       "      <td>-26.747652</td>\n",
       "    </tr>\n",
       "    <tr>\n",
       "      <th>570239</th>\n",
       "      <td>2023-02-13 16:57:30</td>\n",
       "      <td>L_20m_c</td>\n",
       "      <td>105.877411</td>\n",
       "    </tr>\n",
       "  </tbody>\n",
       "</table>\n",
       "<p>570240 rows × 3 columns</p>\n",
       "</div>"
      ],
      "text/plain": [
       "                      time variable       value\n",
       "0      2023-02-09 17:02:30  RH_4m_c   44.631634\n",
       "1      2023-02-09 17:07:30  RH_4m_c   44.369286\n",
       "2      2023-02-09 17:12:30  RH_4m_c   45.231407\n",
       "3      2023-02-09 17:17:30  RH_4m_c   46.573399\n",
       "4      2023-02-09 17:22:30  RH_4m_c   47.458984\n",
       "...                    ...      ...         ...\n",
       "570235 2023-02-13 16:37:30  L_20m_c   21.407660\n",
       "570236 2023-02-13 16:42:30  L_20m_c   64.408348\n",
       "570237 2023-02-13 16:47:30  L_20m_c   52.224754\n",
       "570238 2023-02-13 16:52:30  L_20m_c  -26.747652\n",
       "570239 2023-02-13 16:57:30  L_20m_c  105.877411\n",
       "\n",
       "[570240 rows x 3 columns]"
      ]
     },
     "execution_count": 8,
     "metadata": {},
     "output_type": "execute_result"
    }
   ],
   "source": [
    "tidy_df[['time', 'variable', 'value']]"
   ]
  },
  {
   "attachments": {},
   "cell_type": "markdown",
   "metadata": {},
   "source": [
    "Notice that the variable names actually contain 3 pieces of information - the type of measurement, the height, and the tower of that measurement.\n",
    "We can split that information into separate columns so that our dataset allows easy indexing of what we want. This is performed by mapping each variable name to a \"measurement\" name, a height (0-20 meters, or negative for soil temperature measurements), and a tower (uw, ue, c, d).\n",
    "\n",
    "This is exactly what `tidy.get_tidy_dataset` gives us."
   ]
  },
  {
   "cell_type": "code",
   "execution_count": 9,
   "metadata": {},
   "outputs": [
    {
     "data": {
      "text/html": [
       "<div>\n",
       "<style scoped>\n",
       "    .dataframe tbody tr th:only-of-type {\n",
       "        vertical-align: middle;\n",
       "    }\n",
       "\n",
       "    .dataframe tbody tr th {\n",
       "        vertical-align: top;\n",
       "    }\n",
       "\n",
       "    .dataframe thead th {\n",
       "        text-align: right;\n",
       "    }\n",
       "</style>\n",
       "<table border=\"1\" class=\"dataframe\">\n",
       "  <thead>\n",
       "    <tr style=\"text-align: right;\">\n",
       "      <th></th>\n",
       "      <th>time</th>\n",
       "      <th>tower</th>\n",
       "      <th>height</th>\n",
       "      <th>measurement</th>\n",
       "      <th>variable</th>\n",
       "      <th>value</th>\n",
       "    </tr>\n",
       "  </thead>\n",
       "  <tbody>\n",
       "    <tr>\n",
       "      <th>453108</th>\n",
       "      <td>2023-02-11 00:02:30</td>\n",
       "      <td>c</td>\n",
       "      <td>11.0</td>\n",
       "      <td>mixing ratio</td>\n",
       "      <td>mixingratio_11m_c</td>\n",
       "      <td>0.001475</td>\n",
       "    </tr>\n",
       "    <tr>\n",
       "      <th>517494</th>\n",
       "      <td>2023-02-10 13:32:30</td>\n",
       "      <td>c</td>\n",
       "      <td>20.0</td>\n",
       "      <td>turbulent kinetic energy</td>\n",
       "      <td>tke_20m_c</td>\n",
       "      <td>0.088717</td>\n",
       "    </tr>\n",
       "    <tr>\n",
       "      <th>200142</th>\n",
       "      <td>2023-02-12 15:32:30</td>\n",
       "      <td>c</td>\n",
       "      <td>10.0</td>\n",
       "      <td>u_tc_</td>\n",
       "      <td>u_tc__10m_c</td>\n",
       "      <td>-0.001411</td>\n",
       "    </tr>\n",
       "    <tr>\n",
       "      <th>91921</th>\n",
       "      <td>2023-02-12 21:07:30</td>\n",
       "      <td>c</td>\n",
       "      <td>15.0</td>\n",
       "      <td>v_h2o_</td>\n",
       "      <td>v_h2o__15m_c</td>\n",
       "      <td>0.008259</td>\n",
       "    </tr>\n",
       "    <tr>\n",
       "      <th>241597</th>\n",
       "      <td>2023-02-12 14:07:30</td>\n",
       "      <td>c</td>\n",
       "      <td>3.0</td>\n",
       "      <td>w</td>\n",
       "      <td>w_3m_c</td>\n",
       "      <td>-0.017085</td>\n",
       "    </tr>\n",
       "  </tbody>\n",
       "</table>\n",
       "</div>"
      ],
      "text/plain": [
       "                      time tower  height               measurement  \\\n",
       "453108 2023-02-11 00:02:30     c    11.0              mixing ratio   \n",
       "517494 2023-02-10 13:32:30     c    20.0  turbulent kinetic energy   \n",
       "200142 2023-02-12 15:32:30     c    10.0                     u_tc_   \n",
       "91921  2023-02-12 21:07:30     c    15.0                    v_h2o_   \n",
       "241597 2023-02-12 14:07:30     c     3.0                         w   \n",
       "\n",
       "                 variable     value  \n",
       "453108  mixingratio_11m_c  0.001475  \n",
       "517494          tke_20m_c  0.088717  \n",
       "200142        u_tc__10m_c -0.001411  \n",
       "91921        v_h2o__15m_c  0.008259  \n",
       "241597             w_3m_c -0.017085  "
      ]
     },
     "execution_count": 9,
     "metadata": {},
     "output_type": "execute_result"
    }
   ],
   "source": [
    "tidy_df.sample(5)"
   ]
  },
  {
   "cell_type": "code",
   "execution_count": null,
   "metadata": {},
   "outputs": [],
   "source": []
  },
  {
   "cell_type": "code",
   "execution_count": null,
   "metadata": {},
   "outputs": [],
   "source": []
  },
  {
   "cell_type": "code",
   "execution_count": null,
   "metadata": {},
   "outputs": [],
   "source": []
  },
  {
   "cell_type": "code",
   "execution_count": null,
   "metadata": {},
   "outputs": [],
   "source": []
  },
  {
   "attachments": {},
   "cell_type": "markdown",
   "metadata": {},
   "source": [
    "# Plot \n",
    "\n",
    "Tidy data can make working with time series data extremely easy, especially with the Altair plotting library.\n",
    "\n",
    "https://github.com/elischwat/altair_demo"
   ]
  },
  {
   "attachments": {},
   "cell_type": "markdown",
   "metadata": {},
   "source": [
    "## Snow-thermistor array time series"
   ]
  },
  {
   "cell_type": "code",
   "execution_count": 10,
   "metadata": {},
   "outputs": [],
   "source": [
    "src = tidy_df.query(\"measurement == 'snow temperature'\").query(\"tower == 'd'\")"
   ]
  },
  {
   "cell_type": "code",
   "execution_count": 11,
   "metadata": {},
   "outputs": [
    {
     "data": {
      "text/html": [
       "\n",
       "<style>\n",
       "  #altair-viz-4e8a6d454a324e38bcf174f2a04ad03c.vega-embed {\n",
       "    width: 100%;\n",
       "    display: flex;\n",
       "  }\n",
       "\n",
       "  #altair-viz-4e8a6d454a324e38bcf174f2a04ad03c.vega-embed details,\n",
       "  #altair-viz-4e8a6d454a324e38bcf174f2a04ad03c.vega-embed details summary {\n",
       "    position: relative;\n",
       "  }\n",
       "</style>\n",
       "<div id=\"altair-viz-4e8a6d454a324e38bcf174f2a04ad03c\"></div>\n",
       "<script type=\"text/javascript\">\n",
       "  var VEGA_DEBUG = (typeof VEGA_DEBUG == \"undefined\") ? {} : VEGA_DEBUG;\n",
       "  (function(spec, embedOpt){\n",
       "    let outputDiv = document.currentScript.previousElementSibling;\n",
       "    if (outputDiv.id !== \"altair-viz-4e8a6d454a324e38bcf174f2a04ad03c\") {\n",
       "      outputDiv = document.getElementById(\"altair-viz-4e8a6d454a324e38bcf174f2a04ad03c\");\n",
       "    }\n",
       "    const paths = {\n",
       "      \"vega\": \"https://cdn.jsdelivr.net/npm/vega@5?noext\",\n",
       "      \"vega-lib\": \"https://cdn.jsdelivr.net/npm/vega-lib?noext\",\n",
       "      \"vega-lite\": \"https://cdn.jsdelivr.net/npm/vega-lite@5.8.0?noext\",\n",
       "      \"vega-embed\": \"https://cdn.jsdelivr.net/npm/vega-embed@6?noext\",\n",
       "    };\n",
       "\n",
       "    function maybeLoadScript(lib, version) {\n",
       "      var key = `${lib.replace(\"-\", \"\")}_version`;\n",
       "      return (VEGA_DEBUG[key] == version) ?\n",
       "        Promise.resolve(paths[lib]) :\n",
       "        new Promise(function(resolve, reject) {\n",
       "          var s = document.createElement('script');\n",
       "          document.getElementsByTagName(\"head\")[0].appendChild(s);\n",
       "          s.async = true;\n",
       "          s.onload = () => {\n",
       "            VEGA_DEBUG[key] = version;\n",
       "            return resolve(paths[lib]);\n",
       "          };\n",
       "          s.onerror = () => reject(`Error loading script: ${paths[lib]}`);\n",
       "          s.src = paths[lib];\n",
       "        });\n",
       "    }\n",
       "\n",
       "    function showError(err) {\n",
       "      outputDiv.innerHTML = `<div class=\"error\" style=\"color:red;\">${err}</div>`;\n",
       "      throw err;\n",
       "    }\n",
       "\n",
       "    function displayChart(vegaEmbed) {\n",
       "      vegaEmbed(outputDiv, spec, embedOpt)\n",
       "        .catch(err => showError(`Javascript Error: ${err.message}<br>This usually means there's a typo in your chart specification. See the javascript console for the full traceback.`));\n",
       "    }\n",
       "\n",
       "    if(typeof define === \"function\" && define.amd) {\n",
       "      requirejs.config({paths});\n",
       "      require([\"vega-embed\"], displayChart, err => showError(`Error loading script: ${err.message}`));\n",
       "    } else {\n",
       "      maybeLoadScript(\"vega\", \"5\")\n",
       "        .then(() => maybeLoadScript(\"vega-lite\", \"5.8.0\"))\n",
       "        .then(() => maybeLoadScript(\"vega-embed\", \"6\"))\n",
       "        .catch(showError)\n",
       "        .then(() => displayChart(vegaEmbed));\n",
       "    }\n",
       "  })({\"config\": {\"view\": {\"continuousWidth\": 300, \"continuousHeight\": 300}}, \"data\": {\"url\": \"altair-data-908c0e9dc8b4e891d78e907dcb07c5c8.json\", \"format\": {\"type\": \"json\"}}, \"mark\": {\"type\": \"line\"}, \"encoding\": {\"color\": {\"field\": \"height\", \"scale\": {\"scheme\": \"purpleorange\"}, \"type\": \"ordinal\"}, \"x\": {\"field\": \"time\", \"type\": \"temporal\"}, \"y\": {\"field\": \"value\", \"title\": \"Temperature (\\u02daC)\", \"type\": \"quantitative\"}}, \"width\": 450, \"$schema\": \"https://vega.github.io/schema/vega-lite/v5.8.0.json\"}, {\"mode\": \"vega-lite\"});\n",
       "</script>"
      ],
      "text/plain": [
       "alt.Chart(...)"
      ]
     },
     "execution_count": 11,
     "metadata": {},
     "output_type": "execute_result"
    }
   ],
   "source": [
    "alt.Chart(src).mark_line().encode(\n",
    "    alt.X(\"time:T\"),\n",
    "    alt.Y(\"value:Q\").title(\"Temperature (˚C)\"),\n",
    "    alt.Color(\"height:O\").scale(scheme='purpleorange')\n",
    ").properties(width=450)"
   ]
  },
  {
   "cell_type": "code",
   "execution_count": 12,
   "metadata": {},
   "outputs": [
    {
     "data": {
      "text/html": [
       "\n",
       "<style>\n",
       "  #altair-viz-500f63e5c8fd420a9fb41a698f8051c7.vega-embed {\n",
       "    width: 100%;\n",
       "    display: flex;\n",
       "  }\n",
       "\n",
       "  #altair-viz-500f63e5c8fd420a9fb41a698f8051c7.vega-embed details,\n",
       "  #altair-viz-500f63e5c8fd420a9fb41a698f8051c7.vega-embed details summary {\n",
       "    position: relative;\n",
       "  }\n",
       "</style>\n",
       "<div id=\"altair-viz-500f63e5c8fd420a9fb41a698f8051c7\"></div>\n",
       "<script type=\"text/javascript\">\n",
       "  var VEGA_DEBUG = (typeof VEGA_DEBUG == \"undefined\") ? {} : VEGA_DEBUG;\n",
       "  (function(spec, embedOpt){\n",
       "    let outputDiv = document.currentScript.previousElementSibling;\n",
       "    if (outputDiv.id !== \"altair-viz-500f63e5c8fd420a9fb41a698f8051c7\") {\n",
       "      outputDiv = document.getElementById(\"altair-viz-500f63e5c8fd420a9fb41a698f8051c7\");\n",
       "    }\n",
       "    const paths = {\n",
       "      \"vega\": \"https://cdn.jsdelivr.net/npm/vega@5?noext\",\n",
       "      \"vega-lib\": \"https://cdn.jsdelivr.net/npm/vega-lib?noext\",\n",
       "      \"vega-lite\": \"https://cdn.jsdelivr.net/npm/vega-lite@5.8.0?noext\",\n",
       "      \"vega-embed\": \"https://cdn.jsdelivr.net/npm/vega-embed@6?noext\",\n",
       "    };\n",
       "\n",
       "    function maybeLoadScript(lib, version) {\n",
       "      var key = `${lib.replace(\"-\", \"\")}_version`;\n",
       "      return (VEGA_DEBUG[key] == version) ?\n",
       "        Promise.resolve(paths[lib]) :\n",
       "        new Promise(function(resolve, reject) {\n",
       "          var s = document.createElement('script');\n",
       "          document.getElementsByTagName(\"head\")[0].appendChild(s);\n",
       "          s.async = true;\n",
       "          s.onload = () => {\n",
       "            VEGA_DEBUG[key] = version;\n",
       "            return resolve(paths[lib]);\n",
       "          };\n",
       "          s.onerror = () => reject(`Error loading script: ${paths[lib]}`);\n",
       "          s.src = paths[lib];\n",
       "        });\n",
       "    }\n",
       "\n",
       "    function showError(err) {\n",
       "      outputDiv.innerHTML = `<div class=\"error\" style=\"color:red;\">${err}</div>`;\n",
       "      throw err;\n",
       "    }\n",
       "\n",
       "    function displayChart(vegaEmbed) {\n",
       "      vegaEmbed(outputDiv, spec, embedOpt)\n",
       "        .catch(err => showError(`Javascript Error: ${err.message}<br>This usually means there's a typo in your chart specification. See the javascript console for the full traceback.`));\n",
       "    }\n",
       "\n",
       "    if(typeof define === \"function\" && define.amd) {\n",
       "      requirejs.config({paths});\n",
       "      require([\"vega-embed\"], displayChart, err => showError(`Error loading script: ${err.message}`));\n",
       "    } else {\n",
       "      maybeLoadScript(\"vega\", \"5\")\n",
       "        .then(() => maybeLoadScript(\"vega-lite\", \"5.8.0\"))\n",
       "        .then(() => maybeLoadScript(\"vega-embed\", \"6\"))\n",
       "        .catch(showError)\n",
       "        .then(() => displayChart(vegaEmbed));\n",
       "    }\n",
       "  })({\"config\": {\"view\": {\"continuousWidth\": 300, \"continuousHeight\": 300}}, \"data\": {\"url\": \"altair-data-908c0e9dc8b4e891d78e907dcb07c5c8.json\", \"format\": {\"type\": \"json\"}}, \"mark\": {\"type\": \"line\"}, \"encoding\": {\"color\": {\"field\": \"height\", \"scale\": {\"scheme\": \"rainbow\"}, \"type\": \"ordinal\"}, \"x\": {\"field\": \"time\", \"type\": \"temporal\"}, \"y\": {\"field\": \"rolling_mean\", \"title\": [\"Temperature (\\u02daC)\", \"60min rolling average\"], \"type\": \"quantitative\"}}, \"transform\": [{\"window\": [{\"op\": \"mean\", \"field\": \"value\", \"as\": \"rolling_mean\"}], \"frame\": [-6, 6]}], \"width\": 450, \"$schema\": \"https://vega.github.io/schema/vega-lite/v5.8.0.json\"}, {\"mode\": \"vega-lite\"});\n",
       "</script>"
      ],
      "text/plain": [
       "alt.Chart(...)"
      ]
     },
     "execution_count": 12,
     "metadata": {},
     "output_type": "execute_result"
    }
   ],
   "source": [
    "alt.Chart(src).mark_line().transform_window(\n",
    "    rolling_mean = 'mean(value)',\n",
    "    frame=[-6,6]\n",
    ").encode(\n",
    "    alt.X(\"time:T\"),\n",
    "    alt.Y(\"rolling_mean:Q\").title([\"Temperature (˚C)\", \"60min rolling average\"]),\n",
    "    alt.Color(\"height:O\").scale(scheme='rainbow')\n",
    ").properties(width=450)"
   ]
  },
  {
   "attachments": {},
   "cell_type": "markdown",
   "metadata": {},
   "source": [
    "## Profile time series"
   ]
  },
  {
   "cell_type": "code",
   "execution_count": 13,
   "metadata": {},
   "outputs": [],
   "source": [
    "src = tidy_df.query(\"measurement == 'snow temperature'\")"
   ]
  },
  {
   "cell_type": "code",
   "execution_count": 14,
   "metadata": {},
   "outputs": [
    {
     "data": {
      "text/html": [
       "\n",
       "<style>\n",
       "  #altair-viz-21ba92f584f64aa38ac21db304fe52f7.vega-embed {\n",
       "    width: 100%;\n",
       "    display: flex;\n",
       "  }\n",
       "\n",
       "  #altair-viz-21ba92f584f64aa38ac21db304fe52f7.vega-embed details,\n",
       "  #altair-viz-21ba92f584f64aa38ac21db304fe52f7.vega-embed details summary {\n",
       "    position: relative;\n",
       "  }\n",
       "</style>\n",
       "<div id=\"altair-viz-21ba92f584f64aa38ac21db304fe52f7\"></div>\n",
       "<script type=\"text/javascript\">\n",
       "  var VEGA_DEBUG = (typeof VEGA_DEBUG == \"undefined\") ? {} : VEGA_DEBUG;\n",
       "  (function(spec, embedOpt){\n",
       "    let outputDiv = document.currentScript.previousElementSibling;\n",
       "    if (outputDiv.id !== \"altair-viz-21ba92f584f64aa38ac21db304fe52f7\") {\n",
       "      outputDiv = document.getElementById(\"altair-viz-21ba92f584f64aa38ac21db304fe52f7\");\n",
       "    }\n",
       "    const paths = {\n",
       "      \"vega\": \"https://cdn.jsdelivr.net/npm/vega@5?noext\",\n",
       "      \"vega-lib\": \"https://cdn.jsdelivr.net/npm/vega-lib?noext\",\n",
       "      \"vega-lite\": \"https://cdn.jsdelivr.net/npm/vega-lite@5.8.0?noext\",\n",
       "      \"vega-embed\": \"https://cdn.jsdelivr.net/npm/vega-embed@6?noext\",\n",
       "    };\n",
       "\n",
       "    function maybeLoadScript(lib, version) {\n",
       "      var key = `${lib.replace(\"-\", \"\")}_version`;\n",
       "      return (VEGA_DEBUG[key] == version) ?\n",
       "        Promise.resolve(paths[lib]) :\n",
       "        new Promise(function(resolve, reject) {\n",
       "          var s = document.createElement('script');\n",
       "          document.getElementsByTagName(\"head\")[0].appendChild(s);\n",
       "          s.async = true;\n",
       "          s.onload = () => {\n",
       "            VEGA_DEBUG[key] = version;\n",
       "            return resolve(paths[lib]);\n",
       "          };\n",
       "          s.onerror = () => reject(`Error loading script: ${paths[lib]}`);\n",
       "          s.src = paths[lib];\n",
       "        });\n",
       "    }\n",
       "\n",
       "    function showError(err) {\n",
       "      outputDiv.innerHTML = `<div class=\"error\" style=\"color:red;\">${err}</div>`;\n",
       "      throw err;\n",
       "    }\n",
       "\n",
       "    function displayChart(vegaEmbed) {\n",
       "      vegaEmbed(outputDiv, spec, embedOpt)\n",
       "        .catch(err => showError(`Javascript Error: ${err.message}<br>This usually means there's a typo in your chart specification. See the javascript console for the full traceback.`));\n",
       "    }\n",
       "\n",
       "    if(typeof define === \"function\" && define.amd) {\n",
       "      requirejs.config({paths});\n",
       "      require([\"vega-embed\"], displayChart, err => showError(`Error loading script: ${err.message}`));\n",
       "    } else {\n",
       "      maybeLoadScript(\"vega\", \"5\")\n",
       "        .then(() => maybeLoadScript(\"vega-lite\", \"5.8.0\"))\n",
       "        .then(() => maybeLoadScript(\"vega-embed\", \"6\"))\n",
       "        .catch(showError)\n",
       "        .then(() => displayChart(vegaEmbed));\n",
       "    }\n",
       "  })({\"config\": {\"view\": {\"continuousWidth\": 300, \"continuousHeight\": 300}, \"legend\": {\"orient\": \"top\"}}, \"data\": {\"url\": \"altair-data-95cb4189c18c58fb684231876f91f551.json\", \"format\": {\"type\": \"json\"}}, \"mark\": {\"type\": \"line\"}, \"encoding\": {\"color\": {\"field\": \"height\", \"scale\": {\"scheme\": \"rainbow\"}, \"type\": \"ordinal\"}, \"facet\": {\"field\": \"tower\", \"type\": \"nominal\"}, \"x\": {\"field\": \"time\", \"type\": \"temporal\"}, \"y\": {\"field\": \"rolling_mean\", \"title\": \"Temperature (\\u02daC)\", \"type\": \"quantitative\"}}, \"transform\": [{\"window\": [{\"op\": \"mean\", \"field\": \"value\", \"as\": \"rolling_mean\"}], \"frame\": [-6, 6]}], \"width\": 450, \"$schema\": \"https://vega.github.io/schema/vega-lite/v5.8.0.json\"}, {\"mode\": \"vega-lite\"});\n",
       "</script>"
      ],
      "text/plain": [
       "alt.Chart(...)"
      ]
     },
     "execution_count": 14,
     "metadata": {},
     "output_type": "execute_result"
    }
   ],
   "source": [
    "alt.Chart(src).mark_line().transform_window(\n",
    "    rolling_mean = 'mean(value)',\n",
    "    frame=[-6,6]\n",
    ").encode(\n",
    "    alt.X(\"time:T\"),\n",
    "    alt.Y(\"rolling_mean:Q\").title(\"Temperature (˚C)\"),\n",
    "    alt.Color(\"height:O\").scale(scheme='rainbow'),\n",
    "    alt.Facet(\"tower:N\")\n",
    ").properties(width=450).configure_legend(orient='top')"
   ]
  },
  {
   "cell_type": "code",
   "execution_count": 15,
   "metadata": {},
   "outputs": [],
   "source": [
    "src = tidy_df.copy().query(\"tower == 'c'\")\n",
    "src['hour'] = src['time'].dt.hour\n",
    "src['day'] = src['time'].dt.day\n",
    "src = src[src['time'].dt.minute < 5]\n",
    "src = src[src['hour']%4 == 0]\n",
    "src = src.query(\"day > 9\").query(\"day < 13\")"
   ]
  },
  {
   "cell_type": "code",
   "execution_count": 16,
   "metadata": {},
   "outputs": [
    {
     "data": {
      "text/html": [
       "\n",
       "<style>\n",
       "  #altair-viz-52690878ac774926936551c189a56ef4.vega-embed {\n",
       "    width: 100%;\n",
       "    display: flex;\n",
       "  }\n",
       "\n",
       "  #altair-viz-52690878ac774926936551c189a56ef4.vega-embed details,\n",
       "  #altair-viz-52690878ac774926936551c189a56ef4.vega-embed details summary {\n",
       "    position: relative;\n",
       "  }\n",
       "</style>\n",
       "<div id=\"altair-viz-52690878ac774926936551c189a56ef4\"></div>\n",
       "<script type=\"text/javascript\">\n",
       "  var VEGA_DEBUG = (typeof VEGA_DEBUG == \"undefined\") ? {} : VEGA_DEBUG;\n",
       "  (function(spec, embedOpt){\n",
       "    let outputDiv = document.currentScript.previousElementSibling;\n",
       "    if (outputDiv.id !== \"altair-viz-52690878ac774926936551c189a56ef4\") {\n",
       "      outputDiv = document.getElementById(\"altair-viz-52690878ac774926936551c189a56ef4\");\n",
       "    }\n",
       "    const paths = {\n",
       "      \"vega\": \"https://cdn.jsdelivr.net/npm/vega@5?noext\",\n",
       "      \"vega-lib\": \"https://cdn.jsdelivr.net/npm/vega-lib?noext\",\n",
       "      \"vega-lite\": \"https://cdn.jsdelivr.net/npm/vega-lite@5.8.0?noext\",\n",
       "      \"vega-embed\": \"https://cdn.jsdelivr.net/npm/vega-embed@6?noext\",\n",
       "    };\n",
       "\n",
       "    function maybeLoadScript(lib, version) {\n",
       "      var key = `${lib.replace(\"-\", \"\")}_version`;\n",
       "      return (VEGA_DEBUG[key] == version) ?\n",
       "        Promise.resolve(paths[lib]) :\n",
       "        new Promise(function(resolve, reject) {\n",
       "          var s = document.createElement('script');\n",
       "          document.getElementsByTagName(\"head\")[0].appendChild(s);\n",
       "          s.async = true;\n",
       "          s.onload = () => {\n",
       "            VEGA_DEBUG[key] = version;\n",
       "            return resolve(paths[lib]);\n",
       "          };\n",
       "          s.onerror = () => reject(`Error loading script: ${paths[lib]}`);\n",
       "          s.src = paths[lib];\n",
       "        });\n",
       "    }\n",
       "\n",
       "    function showError(err) {\n",
       "      outputDiv.innerHTML = `<div class=\"error\" style=\"color:red;\">${err}</div>`;\n",
       "      throw err;\n",
       "    }\n",
       "\n",
       "    function displayChart(vegaEmbed) {\n",
       "      vegaEmbed(outputDiv, spec, embedOpt)\n",
       "        .catch(err => showError(`Javascript Error: ${err.message}<br>This usually means there's a typo in your chart specification. See the javascript console for the full traceback.`));\n",
       "    }\n",
       "\n",
       "    if(typeof define === \"function\" && define.amd) {\n",
       "      requirejs.config({paths});\n",
       "      require([\"vega-embed\"], displayChart, err => showError(`Error loading script: ${err.message}`));\n",
       "    } else {\n",
       "      maybeLoadScript(\"vega\", \"5\")\n",
       "        .then(() => maybeLoadScript(\"vega-lite\", \"5.8.0\"))\n",
       "        .then(() => maybeLoadScript(\"vega-embed\", \"6\"))\n",
       "        .catch(showError)\n",
       "        .then(() => displayChart(vegaEmbed));\n",
       "    }\n",
       "  })({\"config\": {\"view\": {\"continuousWidth\": 300, \"continuousHeight\": 300}}, \"data\": {\"url\": \"altair-data-51987be7b6b1ea1d1e9c1276b2f082b3.json\", \"format\": {\"type\": \"json\"}}, \"mark\": {\"type\": \"line\"}, \"encoding\": {\"color\": {\"field\": \"hour\", \"scale\": {\"scheme\": \"turbo\"}, \"type\": \"ordinal\"}, \"facet\": {\"field\": \"day\", \"type\": \"ordinal\"}, \"x\": {\"field\": \"value\", \"sort\": \"-y\", \"title\": \"Temperature (\\u02daC)\", \"type\": \"quantitative\"}, \"y\": {\"field\": \"height\", \"type\": \"quantitative\"}}, \"height\": 100, \"resolve\": {\"scale\": {\"x\": \"independent\"}}, \"width\": 300, \"$schema\": \"https://vega.github.io/schema/vega-lite/v5.8.0.json\"}, {\"mode\": \"vega-lite\"});\n",
       "</script>"
      ],
      "text/plain": [
       "alt.Chart(...)"
      ]
     },
     "execution_count": 16,
     "metadata": {},
     "output_type": "execute_result"
    }
   ],
   "source": [
    "temp_prof_chart = alt.Chart(\n",
    "    pd.concat([\n",
    "        src.query(\"measurement == 'temperature'\"),\n",
    "        src.query(\"variable == 'Tsurf_c'\")\n",
    "    ])\n",
    ").mark_line().encode(\n",
    "    alt.X(\"value:Q\").title('Temperature (˚C)').sort('-y'),\n",
    "    alt.Y(\"height:Q\"),\n",
    "    alt.Color(\"hour:O\").scale(scheme='turbo'),\n",
    "    alt.Facet(\"day:O\")\n",
    ").properties(\n",
    "    height = 100, \n",
    "    width=300\n",
    ").resolve_scale(\n",
    "    x='independent'\n",
    ")\n",
    "temp_prof_chart"
   ]
  },
  {
   "cell_type": "code",
   "execution_count": 17,
   "metadata": {},
   "outputs": [
    {
     "data": {
      "text/html": [
       "\n",
       "<style>\n",
       "  #altair-viz-d6ab512c133b4c8db1833ed81471f1b5.vega-embed {\n",
       "    width: 100%;\n",
       "    display: flex;\n",
       "  }\n",
       "\n",
       "  #altair-viz-d6ab512c133b4c8db1833ed81471f1b5.vega-embed details,\n",
       "  #altair-viz-d6ab512c133b4c8db1833ed81471f1b5.vega-embed details summary {\n",
       "    position: relative;\n",
       "  }\n",
       "</style>\n",
       "<div id=\"altair-viz-d6ab512c133b4c8db1833ed81471f1b5\"></div>\n",
       "<script type=\"text/javascript\">\n",
       "  var VEGA_DEBUG = (typeof VEGA_DEBUG == \"undefined\") ? {} : VEGA_DEBUG;\n",
       "  (function(spec, embedOpt){\n",
       "    let outputDiv = document.currentScript.previousElementSibling;\n",
       "    if (outputDiv.id !== \"altair-viz-d6ab512c133b4c8db1833ed81471f1b5\") {\n",
       "      outputDiv = document.getElementById(\"altair-viz-d6ab512c133b4c8db1833ed81471f1b5\");\n",
       "    }\n",
       "    const paths = {\n",
       "      \"vega\": \"https://cdn.jsdelivr.net/npm/vega@5?noext\",\n",
       "      \"vega-lib\": \"https://cdn.jsdelivr.net/npm/vega-lib?noext\",\n",
       "      \"vega-lite\": \"https://cdn.jsdelivr.net/npm/vega-lite@5.8.0?noext\",\n",
       "      \"vega-embed\": \"https://cdn.jsdelivr.net/npm/vega-embed@6?noext\",\n",
       "    };\n",
       "\n",
       "    function maybeLoadScript(lib, version) {\n",
       "      var key = `${lib.replace(\"-\", \"\")}_version`;\n",
       "      return (VEGA_DEBUG[key] == version) ?\n",
       "        Promise.resolve(paths[lib]) :\n",
       "        new Promise(function(resolve, reject) {\n",
       "          var s = document.createElement('script');\n",
       "          document.getElementsByTagName(\"head\")[0].appendChild(s);\n",
       "          s.async = true;\n",
       "          s.onload = () => {\n",
       "            VEGA_DEBUG[key] = version;\n",
       "            return resolve(paths[lib]);\n",
       "          };\n",
       "          s.onerror = () => reject(`Error loading script: ${paths[lib]}`);\n",
       "          s.src = paths[lib];\n",
       "        });\n",
       "    }\n",
       "\n",
       "    function showError(err) {\n",
       "      outputDiv.innerHTML = `<div class=\"error\" style=\"color:red;\">${err}</div>`;\n",
       "      throw err;\n",
       "    }\n",
       "\n",
       "    function displayChart(vegaEmbed) {\n",
       "      vegaEmbed(outputDiv, spec, embedOpt)\n",
       "        .catch(err => showError(`Javascript Error: ${err.message}<br>This usually means there's a typo in your chart specification. See the javascript console for the full traceback.`));\n",
       "    }\n",
       "\n",
       "    if(typeof define === \"function\" && define.amd) {\n",
       "      requirejs.config({paths});\n",
       "      require([\"vega-embed\"], displayChart, err => showError(`Error loading script: ${err.message}`));\n",
       "    } else {\n",
       "      maybeLoadScript(\"vega\", \"5\")\n",
       "        .then(() => maybeLoadScript(\"vega-lite\", \"5.8.0\"))\n",
       "        .then(() => maybeLoadScript(\"vega-embed\", \"6\"))\n",
       "        .catch(showError)\n",
       "        .then(() => displayChart(vegaEmbed));\n",
       "    }\n",
       "  })({\"config\": {\"view\": {\"continuousWidth\": 300, \"continuousHeight\": 300}}, \"data\": {\"url\": \"altair-data-74dabfff3823186aab4164d6b5554c44.json\", \"format\": {\"type\": \"json\"}}, \"mark\": {\"type\": \"line\"}, \"encoding\": {\"color\": {\"field\": \"hour\", \"scale\": {\"scheme\": \"turbo\"}, \"type\": \"ordinal\"}, \"facet\": {\"field\": \"day\", \"type\": \"ordinal\"}, \"x\": {\"field\": \"value\", \"sort\": \"-y\", \"title\": \"Wind speed (m/s)\", \"type\": \"quantitative\"}, \"y\": {\"field\": \"height\", \"type\": \"quantitative\"}}, \"height\": 100, \"resolve\": {\"scale\": {\"x\": \"independent\"}}, \"width\": 300, \"$schema\": \"https://vega.github.io/schema/vega-lite/v5.8.0.json\"}, {\"mode\": \"vega-lite\"});\n",
       "</script>"
      ],
      "text/plain": [
       "alt.Chart(...)"
      ]
     },
     "execution_count": 17,
     "metadata": {},
     "output_type": "execute_result"
    }
   ],
   "source": [
    "wind_prof_chart = alt.Chart(src.query(\"measurement == 'wind speed'\")).mark_line().encode(\n",
    "    alt.X(\"value:Q\").title('Wind speed (m/s)').sort('-y'),\n",
    "    alt.Y(\"height:Q\"),\n",
    "    alt.Color(\"hour:O\").scale(scheme='turbo'),\n",
    "    alt.Facet(\"day:O\")\n",
    ").properties(\n",
    "    height = 100, \n",
    "    width=300\n",
    ").resolve_scale(\n",
    "    x='independent'\n",
    ")\n",
    "wind_prof_chart"
   ]
  },
  {
   "cell_type": "code",
   "execution_count": 18,
   "metadata": {},
   "outputs": [
    {
     "data": {
      "text/html": [
       "\n",
       "<style>\n",
       "  #altair-viz-ff07f240ce964bcaa1f036d5900cfbd0.vega-embed {\n",
       "    width: 100%;\n",
       "    display: flex;\n",
       "  }\n",
       "\n",
       "  #altair-viz-ff07f240ce964bcaa1f036d5900cfbd0.vega-embed details,\n",
       "  #altair-viz-ff07f240ce964bcaa1f036d5900cfbd0.vega-embed details summary {\n",
       "    position: relative;\n",
       "  }\n",
       "</style>\n",
       "<div id=\"altair-viz-ff07f240ce964bcaa1f036d5900cfbd0\"></div>\n",
       "<script type=\"text/javascript\">\n",
       "  var VEGA_DEBUG = (typeof VEGA_DEBUG == \"undefined\") ? {} : VEGA_DEBUG;\n",
       "  (function(spec, embedOpt){\n",
       "    let outputDiv = document.currentScript.previousElementSibling;\n",
       "    if (outputDiv.id !== \"altair-viz-ff07f240ce964bcaa1f036d5900cfbd0\") {\n",
       "      outputDiv = document.getElementById(\"altair-viz-ff07f240ce964bcaa1f036d5900cfbd0\");\n",
       "    }\n",
       "    const paths = {\n",
       "      \"vega\": \"https://cdn.jsdelivr.net/npm/vega@5?noext\",\n",
       "      \"vega-lib\": \"https://cdn.jsdelivr.net/npm/vega-lib?noext\",\n",
       "      \"vega-lite\": \"https://cdn.jsdelivr.net/npm/vega-lite@5.8.0?noext\",\n",
       "      \"vega-embed\": \"https://cdn.jsdelivr.net/npm/vega-embed@6?noext\",\n",
       "    };\n",
       "\n",
       "    function maybeLoadScript(lib, version) {\n",
       "      var key = `${lib.replace(\"-\", \"\")}_version`;\n",
       "      return (VEGA_DEBUG[key] == version) ?\n",
       "        Promise.resolve(paths[lib]) :\n",
       "        new Promise(function(resolve, reject) {\n",
       "          var s = document.createElement('script');\n",
       "          document.getElementsByTagName(\"head\")[0].appendChild(s);\n",
       "          s.async = true;\n",
       "          s.onload = () => {\n",
       "            VEGA_DEBUG[key] = version;\n",
       "            return resolve(paths[lib]);\n",
       "          };\n",
       "          s.onerror = () => reject(`Error loading script: ${paths[lib]}`);\n",
       "          s.src = paths[lib];\n",
       "        });\n",
       "    }\n",
       "\n",
       "    function showError(err) {\n",
       "      outputDiv.innerHTML = `<div class=\"error\" style=\"color:red;\">${err}</div>`;\n",
       "      throw err;\n",
       "    }\n",
       "\n",
       "    function displayChart(vegaEmbed) {\n",
       "      vegaEmbed(outputDiv, spec, embedOpt)\n",
       "        .catch(err => showError(`Javascript Error: ${err.message}<br>This usually means there's a typo in your chart specification. See the javascript console for the full traceback.`));\n",
       "    }\n",
       "\n",
       "    if(typeof define === \"function\" && define.amd) {\n",
       "      requirejs.config({paths});\n",
       "      require([\"vega-embed\"], displayChart, err => showError(`Error loading script: ${err.message}`));\n",
       "    } else {\n",
       "      maybeLoadScript(\"vega\", \"5\")\n",
       "        .then(() => maybeLoadScript(\"vega-lite\", \"5.8.0\"))\n",
       "        .then(() => maybeLoadScript(\"vega-embed\", \"6\"))\n",
       "        .catch(showError)\n",
       "        .then(() => displayChart(vegaEmbed));\n",
       "    }\n",
       "  })({\"config\": {\"view\": {\"continuousWidth\": 300, \"continuousHeight\": 300}}, \"data\": {\"url\": \"altair-data-c51f892cc9b9cbb018877ef37dee9939.json\", \"format\": {\"type\": \"json\"}}, \"mark\": {\"type\": \"line\"}, \"encoding\": {\"color\": {\"field\": \"hour\", \"scale\": {\"scheme\": \"turbo\"}, \"type\": \"ordinal\"}, \"facet\": {\"field\": \"day\", \"type\": \"ordinal\"}, \"x\": {\"field\": \"value\", \"sort\": \"-y\", \"title\": \"Water vapor mixing ratio (g/g)\", \"type\": \"quantitative\"}, \"y\": {\"field\": \"height\", \"type\": \"quantitative\"}}, \"height\": 100, \"resolve\": {\"scale\": {\"x\": \"independent\"}}, \"width\": 300, \"$schema\": \"https://vega.github.io/schema/vega-lite/v5.8.0.json\"}, {\"mode\": \"vega-lite\"});\n",
       "</script>"
      ],
      "text/plain": [
       "alt.Chart(...)"
      ]
     },
     "execution_count": 18,
     "metadata": {},
     "output_type": "execute_result"
    }
   ],
   "source": [
    "watervapor_prof_chart = alt.Chart(src.query(\"measurement == 'mixing ratio'\")).mark_line().encode(\n",
    "    alt.X(\"value:Q\").title('Water vapor mixing ratio (g/g)').sort('-y'),\n",
    "    alt.Y(\"height:Q\"),\n",
    "    alt.Color(\"hour:O\").scale(scheme='turbo'),\n",
    "    alt.Facet(\"day:O\")\n",
    ").properties(\n",
    "    height = 100, \n",
    "    width=300\n",
    ").resolve_scale(\n",
    "    x='independent'\n",
    ")\n",
    "watervapor_prof_chart"
   ]
  },
  {
   "cell_type": "code",
   "execution_count": 19,
   "metadata": {},
   "outputs": [
    {
     "data": {
      "text/html": [
       "\n",
       "<style>\n",
       "  #altair-viz-e9b3c36bd57d4908ae45b200606776a3.vega-embed {\n",
       "    width: 100%;\n",
       "    display: flex;\n",
       "  }\n",
       "\n",
       "  #altair-viz-e9b3c36bd57d4908ae45b200606776a3.vega-embed details,\n",
       "  #altair-viz-e9b3c36bd57d4908ae45b200606776a3.vega-embed details summary {\n",
       "    position: relative;\n",
       "  }\n",
       "</style>\n",
       "<div id=\"altair-viz-e9b3c36bd57d4908ae45b200606776a3\"></div>\n",
       "<script type=\"text/javascript\">\n",
       "  var VEGA_DEBUG = (typeof VEGA_DEBUG == \"undefined\") ? {} : VEGA_DEBUG;\n",
       "  (function(spec, embedOpt){\n",
       "    let outputDiv = document.currentScript.previousElementSibling;\n",
       "    if (outputDiv.id !== \"altair-viz-e9b3c36bd57d4908ae45b200606776a3\") {\n",
       "      outputDiv = document.getElementById(\"altair-viz-e9b3c36bd57d4908ae45b200606776a3\");\n",
       "    }\n",
       "    const paths = {\n",
       "      \"vega\": \"https://cdn.jsdelivr.net/npm/vega@5?noext\",\n",
       "      \"vega-lib\": \"https://cdn.jsdelivr.net/npm/vega-lib?noext\",\n",
       "      \"vega-lite\": \"https://cdn.jsdelivr.net/npm/vega-lite@5.8.0?noext\",\n",
       "      \"vega-embed\": \"https://cdn.jsdelivr.net/npm/vega-embed@6?noext\",\n",
       "    };\n",
       "\n",
       "    function maybeLoadScript(lib, version) {\n",
       "      var key = `${lib.replace(\"-\", \"\")}_version`;\n",
       "      return (VEGA_DEBUG[key] == version) ?\n",
       "        Promise.resolve(paths[lib]) :\n",
       "        new Promise(function(resolve, reject) {\n",
       "          var s = document.createElement('script');\n",
       "          document.getElementsByTagName(\"head\")[0].appendChild(s);\n",
       "          s.async = true;\n",
       "          s.onload = () => {\n",
       "            VEGA_DEBUG[key] = version;\n",
       "            return resolve(paths[lib]);\n",
       "          };\n",
       "          s.onerror = () => reject(`Error loading script: ${paths[lib]}`);\n",
       "          s.src = paths[lib];\n",
       "        });\n",
       "    }\n",
       "\n",
       "    function showError(err) {\n",
       "      outputDiv.innerHTML = `<div class=\"error\" style=\"color:red;\">${err}</div>`;\n",
       "      throw err;\n",
       "    }\n",
       "\n",
       "    function displayChart(vegaEmbed) {\n",
       "      vegaEmbed(outputDiv, spec, embedOpt)\n",
       "        .catch(err => showError(`Javascript Error: ${err.message}<br>This usually means there's a typo in your chart specification. See the javascript console for the full traceback.`));\n",
       "    }\n",
       "\n",
       "    if(typeof define === \"function\" && define.amd) {\n",
       "      requirejs.config({paths});\n",
       "      require([\"vega-embed\"], displayChart, err => showError(`Error loading script: ${err.message}`));\n",
       "    } else {\n",
       "      maybeLoadScript(\"vega\", \"5\")\n",
       "        .then(() => maybeLoadScript(\"vega-lite\", \"5.8.0\"))\n",
       "        .then(() => maybeLoadScript(\"vega-embed\", \"6\"))\n",
       "        .catch(showError)\n",
       "        .then(() => displayChart(vegaEmbed));\n",
       "    }\n",
       "  })({\"config\": {\"view\": {\"continuousWidth\": 300, \"continuousHeight\": 300}}, \"vconcat\": [{\"data\": {\"url\": \"altair-data-74dabfff3823186aab4164d6b5554c44.json\", \"format\": {\"type\": \"json\"}}, \"mark\": {\"type\": \"line\"}, \"encoding\": {\"color\": {\"field\": \"hour\", \"scale\": {\"scheme\": \"turbo\"}, \"type\": \"ordinal\"}, \"facet\": {\"field\": \"day\", \"type\": \"ordinal\"}, \"x\": {\"field\": \"value\", \"sort\": \"-y\", \"title\": \"Wind speed (m/s)\", \"type\": \"quantitative\"}, \"y\": {\"field\": \"height\", \"type\": \"quantitative\"}}, \"height\": 100, \"resolve\": {\"scale\": {\"x\": \"independent\"}}, \"width\": 300}, {\"data\": {\"url\": \"altair-data-51987be7b6b1ea1d1e9c1276b2f082b3.json\", \"format\": {\"type\": \"json\"}}, \"mark\": {\"type\": \"line\"}, \"encoding\": {\"color\": {\"field\": \"hour\", \"scale\": {\"scheme\": \"turbo\"}, \"type\": \"ordinal\"}, \"facet\": {\"field\": \"day\", \"type\": \"ordinal\"}, \"x\": {\"field\": \"value\", \"sort\": \"-y\", \"title\": \"Temperature (\\u02daC)\", \"type\": \"quantitative\"}, \"y\": {\"field\": \"height\", \"type\": \"quantitative\"}}, \"height\": 100, \"resolve\": {\"scale\": {\"x\": \"independent\"}}, \"width\": 300}, {\"data\": {\"url\": \"altair-data-c51f892cc9b9cbb018877ef37dee9939.json\", \"format\": {\"type\": \"json\"}}, \"mark\": {\"type\": \"line\"}, \"encoding\": {\"color\": {\"field\": \"hour\", \"scale\": {\"scheme\": \"turbo\"}, \"type\": \"ordinal\"}, \"facet\": {\"field\": \"day\", \"type\": \"ordinal\"}, \"x\": {\"field\": \"value\", \"sort\": \"-y\", \"title\": \"Water vapor mixing ratio (g/g)\", \"type\": \"quantitative\"}, \"y\": {\"field\": \"height\", \"type\": \"quantitative\"}}, \"height\": 100, \"resolve\": {\"scale\": {\"x\": \"independent\"}}, \"width\": 300}], \"$schema\": \"https://vega.github.io/schema/vega-lite/v5.8.0.json\"}, {\"mode\": \"vega-lite\"});\n",
       "</script>"
      ],
      "text/plain": [
       "alt.VConcatChart(...)"
      ]
     },
     "execution_count": 19,
     "metadata": {},
     "output_type": "execute_result"
    }
   ],
   "source": [
    "wind_prof_chart & temp_prof_chart & watervapor_prof_chart"
   ]
  },
  {
   "attachments": {},
   "cell_type": "markdown",
   "metadata": {},
   "source": [
    "## Scatterplots of Ri and turbulent fluxes"
   ]
  },
  {
   "cell_type": "code",
   "execution_count": 20,
   "metadata": {},
   "outputs": [],
   "source": [
    "wide_df = tidy_df[tidy_df['variable'].isin(['Ri_3m_c', 'RiB_3m_c', 'w_h2o__3m_c', 'w_tc__3m_c'])].reset_index(drop=True).pivot(\n",
    "    values = ['value'],\n",
    "    columns = 'variable',\n",
    "    index = 'time'\n",
    ")\n",
    "wide_df.columns = wide_df.columns.get_level_values(1)\n",
    "wide_df = wide_df.reset_index()"
   ]
  },
  {
   "cell_type": "code",
   "execution_count": 21,
   "metadata": {},
   "outputs": [],
   "source": [
    "rule = alt.Chart().mark_rule().encode(x=alt.datum(0.25))\n",
    "xscale = alt.Scale(domain = [-2, 4], clamp=True)\n",
    "yscale = alt.Scale(domain = [-.01, .01], clamp=True)\n",
    "\n",
    "base = alt.Chart(wide_df)\n",
    "\n",
    "points = base.mark_circle(size=2).encode(\n",
    "    alt.X('Ri_3m_c').scale(xscale),\n",
    "    alt.Y('w_h2o__3m_c').scale(yscale)\n",
    ").properties(width=150, height=150)\n",
    "\n",
    "top_hist = base.mark_bar().encode(\n",
    "    alt.X(\"Ri_3m_c\")\n",
    "    .bin(maxbins=30, extent=xscale.domain).scale(clamp=True)\n",
    "    .title(None)\n",
    "    .axis(labels=False),\n",
    "    alt.Y('count()').title(None)\n",
    "\n",
    ").properties(width=150, height=30)\n",
    "\n",
    "w_h2o_vs_ri_plot = top_hist & (points + rule)\n",
    "ri_chart = w_h2o_vs_ri_plot"
   ]
  },
  {
   "cell_type": "code",
   "execution_count": 22,
   "metadata": {},
   "outputs": [],
   "source": [
    "rule = alt.Chart().mark_rule().encode(x=alt.datum(0.2))\n",
    "xscale = alt.Scale(domain = [-2, 4], clamp=True)\n",
    "yscale = alt.Scale(domain = [-.01, .01], clamp=True)\n",
    "\n",
    "base = alt.Chart(wide_df)\n",
    "\n",
    "points = base.mark_circle(size=2).encode(\n",
    "    alt.X('RiB_3m_c').scale(xscale),\n",
    "    alt.Y('w_h2o__3m_c').scale(yscale)\n",
    ").properties(width=150, height=150)\n",
    "\n",
    "top_hist = base.mark_bar().encode(\n",
    "    alt.X(\"RiB_3m_c\")\n",
    "    .bin(maxbins=30, extent=xscale.domain).scale(clamp=True)\n",
    "    .title(None)\n",
    "    .axis(labels=False),\n",
    "    alt.Y('count()').title(None)\n",
    "    \n",
    ").properties(width=150, height=30)\n",
    "\n",
    "right_hist = base.mark_bar().encode(\n",
    "    alt.Y(\"w_h2o__3m_c\")\n",
    "    .bin(maxbins=30, extent=yscale.domain)\n",
    "    .title(None)\n",
    "    .axis(labels=False),\n",
    "    alt.X('count()').title(None)\n",
    ").properties(width=30, height = 150)\n",
    "\n",
    "w_h2o_vs_ri_plot = top_hist & (points + rule | right_hist)\n",
    "rib_chart = w_h2o_vs_ri_plot"
   ]
  },
  {
   "cell_type": "code",
   "execution_count": 23,
   "metadata": {},
   "outputs": [
    {
     "data": {
      "text/html": [
       "\n",
       "<style>\n",
       "  #altair-viz-9be08ae4c8844bcca1dee39e396794bf.vega-embed {\n",
       "    width: 100%;\n",
       "    display: flex;\n",
       "  }\n",
       "\n",
       "  #altair-viz-9be08ae4c8844bcca1dee39e396794bf.vega-embed details,\n",
       "  #altair-viz-9be08ae4c8844bcca1dee39e396794bf.vega-embed details summary {\n",
       "    position: relative;\n",
       "  }\n",
       "</style>\n",
       "<div id=\"altair-viz-9be08ae4c8844bcca1dee39e396794bf\"></div>\n",
       "<script type=\"text/javascript\">\n",
       "  var VEGA_DEBUG = (typeof VEGA_DEBUG == \"undefined\") ? {} : VEGA_DEBUG;\n",
       "  (function(spec, embedOpt){\n",
       "    let outputDiv = document.currentScript.previousElementSibling;\n",
       "    if (outputDiv.id !== \"altair-viz-9be08ae4c8844bcca1dee39e396794bf\") {\n",
       "      outputDiv = document.getElementById(\"altair-viz-9be08ae4c8844bcca1dee39e396794bf\");\n",
       "    }\n",
       "    const paths = {\n",
       "      \"vega\": \"https://cdn.jsdelivr.net/npm/vega@5?noext\",\n",
       "      \"vega-lib\": \"https://cdn.jsdelivr.net/npm/vega-lib?noext\",\n",
       "      \"vega-lite\": \"https://cdn.jsdelivr.net/npm/vega-lite@5.8.0?noext\",\n",
       "      \"vega-embed\": \"https://cdn.jsdelivr.net/npm/vega-embed@6?noext\",\n",
       "    };\n",
       "\n",
       "    function maybeLoadScript(lib, version) {\n",
       "      var key = `${lib.replace(\"-\", \"\")}_version`;\n",
       "      return (VEGA_DEBUG[key] == version) ?\n",
       "        Promise.resolve(paths[lib]) :\n",
       "        new Promise(function(resolve, reject) {\n",
       "          var s = document.createElement('script');\n",
       "          document.getElementsByTagName(\"head\")[0].appendChild(s);\n",
       "          s.async = true;\n",
       "          s.onload = () => {\n",
       "            VEGA_DEBUG[key] = version;\n",
       "            return resolve(paths[lib]);\n",
       "          };\n",
       "          s.onerror = () => reject(`Error loading script: ${paths[lib]}`);\n",
       "          s.src = paths[lib];\n",
       "        });\n",
       "    }\n",
       "\n",
       "    function showError(err) {\n",
       "      outputDiv.innerHTML = `<div class=\"error\" style=\"color:red;\">${err}</div>`;\n",
       "      throw err;\n",
       "    }\n",
       "\n",
       "    function displayChart(vegaEmbed) {\n",
       "      vegaEmbed(outputDiv, spec, embedOpt)\n",
       "        .catch(err => showError(`Javascript Error: ${err.message}<br>This usually means there's a typo in your chart specification. See the javascript console for the full traceback.`));\n",
       "    }\n",
       "\n",
       "    if(typeof define === \"function\" && define.amd) {\n",
       "      requirejs.config({paths});\n",
       "      require([\"vega-embed\"], displayChart, err => showError(`Error loading script: ${err.message}`));\n",
       "    } else {\n",
       "      maybeLoadScript(\"vega\", \"5\")\n",
       "        .then(() => maybeLoadScript(\"vega-lite\", \"5.8.0\"))\n",
       "        .then(() => maybeLoadScript(\"vega-embed\", \"6\"))\n",
       "        .catch(showError)\n",
       "        .then(() => displayChart(vegaEmbed));\n",
       "    }\n",
       "  })({\"config\": {\"view\": {\"continuousWidth\": 300, \"continuousHeight\": 300}}, \"hconcat\": [{\"vconcat\": [{\"data\": {\"url\": \"altair-data-fb1f39ec405f9af4669b2e4fff6c4cd2.json\", \"format\": {\"type\": \"json\"}}, \"mark\": {\"type\": \"bar\"}, \"encoding\": {\"x\": {\"axis\": {\"labels\": false}, \"bin\": {\"maxbins\": 30, \"extent\": [-2, 4]}, \"field\": \"Ri_3m_c\", \"scale\": {\"clamp\": true}, \"title\": null, \"type\": \"quantitative\"}, \"y\": {\"aggregate\": \"count\", \"title\": null, \"type\": \"quantitative\"}}, \"height\": 30, \"width\": 150}, {\"layer\": [{\"data\": {\"url\": \"altair-data-fb1f39ec405f9af4669b2e4fff6c4cd2.json\", \"format\": {\"type\": \"json\"}}, \"mark\": {\"type\": \"circle\", \"size\": 2}, \"encoding\": {\"x\": {\"field\": \"Ri_3m_c\", \"scale\": {\"clamp\": true, \"domain\": [-2, 4]}, \"type\": \"quantitative\"}, \"y\": {\"field\": \"w_h2o__3m_c\", \"scale\": {\"clamp\": true, \"domain\": [-0.01, 0.01]}, \"type\": \"quantitative\"}}}, {\"data\": {\"name\": \"empty\"}, \"mark\": {\"type\": \"rule\"}, \"encoding\": {\"x\": {\"datum\": 0.25}}}], \"height\": 150, \"width\": 150}]}, {\"vconcat\": [{\"data\": {\"url\": \"altair-data-fb1f39ec405f9af4669b2e4fff6c4cd2.json\", \"format\": {\"type\": \"json\"}}, \"mark\": {\"type\": \"bar\"}, \"encoding\": {\"x\": {\"axis\": {\"labels\": false}, \"bin\": {\"maxbins\": 30, \"extent\": [-2, 4]}, \"field\": \"RiB_3m_c\", \"scale\": {\"clamp\": true}, \"title\": null, \"type\": \"quantitative\"}, \"y\": {\"aggregate\": \"count\", \"title\": null, \"type\": \"quantitative\"}}, \"height\": 30, \"width\": 150}, {\"hconcat\": [{\"layer\": [{\"data\": {\"url\": \"altair-data-fb1f39ec405f9af4669b2e4fff6c4cd2.json\", \"format\": {\"type\": \"json\"}}, \"mark\": {\"type\": \"circle\", \"size\": 2}, \"encoding\": {\"x\": {\"field\": \"RiB_3m_c\", \"scale\": {\"clamp\": true, \"domain\": [-2, 4]}, \"type\": \"quantitative\"}, \"y\": {\"field\": \"w_h2o__3m_c\", \"scale\": {\"clamp\": true, \"domain\": [-0.01, 0.01]}, \"type\": \"quantitative\"}}}, {\"data\": {\"name\": \"empty\"}, \"mark\": {\"type\": \"rule\"}, \"encoding\": {\"x\": {\"datum\": 0.2}}}], \"height\": 150, \"width\": 150}, {\"data\": {\"url\": \"altair-data-fb1f39ec405f9af4669b2e4fff6c4cd2.json\", \"format\": {\"type\": \"json\"}}, \"mark\": {\"type\": \"bar\"}, \"encoding\": {\"x\": {\"aggregate\": \"count\", \"title\": null, \"type\": \"quantitative\"}, \"y\": {\"axis\": {\"labels\": false}, \"bin\": {\"maxbins\": 30, \"extent\": [-0.01, 0.01]}, \"field\": \"w_h2o__3m_c\", \"title\": null, \"type\": \"quantitative\"}}, \"height\": 150, \"width\": 30}]}]}], \"$schema\": \"https://vega.github.io/schema/vega-lite/v5.8.0.json\", \"datasets\": {\"empty\": [{}]}}, {\"mode\": \"vega-lite\"});\n",
       "</script>"
      ],
      "text/plain": [
       "alt.HConcatChart(...)"
      ]
     },
     "execution_count": 23,
     "metadata": {},
     "output_type": "execute_result"
    }
   ],
   "source": [
    "(ri_chart | rib_chart)"
   ]
  },
  {
   "cell_type": "code",
   "execution_count": null,
   "metadata": {},
   "outputs": [],
   "source": []
  }
 ],
 "metadata": {
  "kernelspec": {
   "display_name": "arm",
   "language": "python",
   "name": "python3"
  },
  "language_info": {
   "codemirror_mode": {
    "name": "ipython",
    "version": 3
   },
   "file_extension": ".py",
   "mimetype": "text/x-python",
   "name": "python",
   "nbconvert_exporter": "python",
   "pygments_lexer": "ipython3",
   "version": "3.11.0"
  },
  "orig_nbformat": 4
 },
 "nbformat": 4,
 "nbformat_minor": 2
}
